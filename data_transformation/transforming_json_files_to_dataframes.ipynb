{
 "cells": [
  {
   "cell_type": "markdown",
   "metadata": {},
   "source": [
    "Check if there is a consistent structure in the main fields of all json files:"
   ]
  },
  {
   "cell_type": "code",
   "execution_count": 12,
   "metadata": {},
   "outputs": [
    {
     "name": "stdout",
     "output_type": "stream",
     "text": [
      "By now, a session might have up to 0 number of orders.\n"
     ]
    }
   ],
   "source": [
    "import os, json\n",
    "import pandas as pd\n",
    "\n",
    "path_to_json = '../webscraping/exports/'\n",
    "json_files = [pos_json for pos_json in os.listdir(path_to_json) if pos_json.endswith('.json')]\n",
    "\n",
    "main_fields = [\"sessionInfo\", \"mashrooh\"]\n",
    "sessionInfo_fields = [\n",
    "    \"term\",\n",
    "    \"ejlasie\",\n",
    "    \"preset_mps\",\n",
    "    \"session\",\n",
    "    \"date\"]\n",
    "\n",
    "max_orders = 0\n",
    "\n",
    "\n",
    "print(\"By now, a session might have up to \" + str(max_orders) + \" number of orders.\")"
   ]
  },
  {
   "cell_type": "markdown",
   "metadata": {},
   "source": [
    "Transform session information JSONs to the dataframe session_df:"
   ]
  },
  {
   "cell_type": "code",
   "execution_count": 63,
   "metadata": {
    "scrolled": true
   },
   "outputs": [
    {
     "name": "stdout",
     "output_type": "stream",
     "text": [
      "   term ejlasie preset_mps session        date date_year date_month date_day\n",
      "0    10       2        194     204  1397-02-19      1397         02       19\n",
      "1    10       3        196     300  1397-12-19      1397         12       19\n",
      "3    10       3        196     302  1397-12-21      1397         12       21\n",
      "4    10       3        194     303  1397-12-26      1397         12       26\n",
      "5    10       3        203     304  1398-01-18      1398         01       18\n",
      "6    10       3        198     305  1398-01-19      1398         01       19\n",
      "7    10       3        208     306  1398-01-20      1398         01       20\n",
      "8    10       3        197     307  1398-01-20      1398         01       20\n",
      "9    10       3        219     308  1398-01-25      1398         01       25\n",
      "10   10       3        195     309  1398-01-26      1398         01       26\n",
      "11   10       3        205     310  1398-01-27      1398         01       27\n",
      "12   10       4        194     311  1398-01-27      1398         01       27\n",
      "13   10       3        225     312  1398-02-02      1398         02       02\n",
      "15   10       3        194     314  1398-02-03      1398         02       03\n",
      "16   10       3        249     316  1398-02-16      1398         02       16\n",
      "17   10       3        231     321  1398-02-24      1398         02       24\n",
      "18   10       3        195     322  1398-02-24      1398         02       24\n",
      "19   10       3        204     323  1398-02-29      1398         02       29\n",
      "20   10       3        202     324  1398-02-30      1398         02       30\n",
      "21   10       3        197     325  1398-02-31      1398         02       31\n",
      "22   10       3        195     326  1398-02-31      1398         02       31\n",
      "23   10       3        195     327  1398-03-04      1398         03       04\n",
      "24   10       3        221     328  1398-03-05      1398         03       05\n",
      "25   10       4        220     329  1398-03-19      1398         03       19\n",
      "26   10       4        200     330  1398-03-20      1398         03       20\n",
      "27   10       4        194     331  1398-03-20      1398         03       20\n",
      "28   10       4        195     332  1398-03-21      1398         03       21\n",
      "29   10       4        229     333  1398-03-26      1398         03       26\n",
      "30   10       4        201     334  1398-03-27      1398         03       27\n",
      "31   10       4        196     335  1398-03-27      1398         03       27\n",
      "32   10       4        194     336  1398-03-28      1398         03       28\n",
      "33   10       4        194     337  1398-04-02      1398         04       02\n",
      "34   10       4        202     338  1398-04-03      1398         04       03\n",
      "35   10       4        194     339  1398-04-03      1398         04       03\n",
      "36   10       4        200     340  1398-04-04      1398         04       04\n",
      "37   10       4        225     341  1398-04-22      1398         04       22\n",
      "38   10       4        201     342  1398-04-24      1398         04       24\n",
      "39   10       4        194     343  1398-04-24      1398         04       24\n",
      "40   10       4        201     344  1398-04-25      1398         04       25\n",
      "41   10       4        205     345  1398-04-30      1398         04       30\n"
     ]
    }
   ],
   "source": [
    "import pandas as pd\n",
    "\n",
    "sessions_fields = {\n",
    "    \"term\" : [],\n",
    "    \"ejlasie\": [],\n",
    "    \"preset_mps\": [],\n",
    "    \"session\": [],\n",
    "    \"date\": []}\n",
    "\n",
    "session_df = pd.DataFrame(data=sessions_fields)\n",
    "\n",
    "for json_file in json_files:\n",
    "    # Opening JSON file\n",
    "    json_file = open(path_to_json + json_file,'r') \n",
    "\n",
    "    # returns JSON object as a dictionary \n",
    "    string_data = json.load(json_file) \n",
    "    dict_data = json.loads(string_data)\n",
    "\n",
    "    session_df.loc[session_df.shape[0]] = dict_data[\"sessionInfo\"]\n",
    "\n",
    "#extract year, month and day from the date string\n",
    "session_df['date_year'] = session_df[\"date\"].str.slice(0, 4)\n",
    "session_df['date_month'] = session_df[\"date\"].str.slice(5, 7)\n",
    "session_df['date_day'] = session_df[\"date\"].str.slice(8, 10)\n",
    "\n",
    "session_df = session_df.sort_values([\"date\", \"session\"])\n",
    "print(session_df.head(40))\n",
    "session_df.to_csv(\"export_dataframes/session_information.csv\")"
   ]
  },
  {
   "cell_type": "markdown",
   "metadata": {},
   "source": [
    "Extract orders from session information and save them in the dataframe order_df."
   ]
  },
  {
   "cell_type": "code",
   "execution_count": 62,
   "metadata": {},
   "outputs": [
    {
     "name": "stdout",
     "output_type": "stream",
     "text": [
      "   session_id order_id                                        order_title\n",
      "0         204        1                     اعلام رسميت جلسه و قرائت دستور\n",
      "1         204        2                           تلاوت آياتي از قرآن مجيد\n",
      "2         204        3  بيانات رئيس محترم مجلس شوراي اسلامي درخصوص خرو...\n",
      "3         204        4  ارجاع طرح تشكيل وزارت ميراث فرهنگي، گردشگري و ...\n",
      "4         204        5  ادامه رسيدگي به لايحه اصلاح قانون مبارزه با پو...\n",
      "5         204        6  قرائت بيانيه نمايندگان مجلس شوراي اسلامي درخصو...\n",
      "6         204        7  ناطقين جلسه آقايان: احمد همتي، سيدجواد حسيني‌ك...\n",
      "7         204        8  تذكرات كتبي نمايندگان مجلس به مسئولان اجرايي كشور\n",
      "8         204        9  تذكر آيين‌نامه‌اي و اخطار قانون اساسي نمايندگا...\n",
      "9         204       10            اعلام ختم جلسه و تاريخ تشكيل جلسه آينده\n",
      "10        300        1                     اعلام رسميت جلسه و قرائت دستور\n",
      "11        300        2                           تلاوت آياتي از قرآن مجيد\n",
      "12        300        3  بيانات رئيس محترم مجلس شوراي اسلامي به‌مناسبت ...\n",
      "13        300        4  تصويب اصلاحات كميسيون درخصوص لايحه بودجه سال 1...\n",
      "14        300        5  انتخاب آقاي محمدمهدي افتخاري به عنوان ناظر در ...\n",
      "15        300        6  ادامه رسيدگي به طرح اصلاح موادي از قانون انتخا...\n",
      "16        300        7  ناطقان جلسه آقايان: علي قرباني، شهرام كوسه‌غرا...\n",
      "17        300        8       تذكرات كتبي نمايندگان به مسئولان اجرايي كشور\n",
      "18        300        9           تذكرات شفاهي نمايندگان مجلس شوراي اسلامي\n",
      "19        300       10            اعلام ختم جلسه و تاريخ تشكيل جلسه آينده\n",
      "20        301        1                     اعلام رسميت جلسه و قرائت دستور\n",
      "21        301        2                           تلاوت آياتي از قرآن مجيد\n",
      "22        301        3  ادامه رسيدگي به طرح اصلاح موادي از قانون انتخا...\n",
      "23        301        4                            اعلام وصول (4) فقره طرح\n",
      "24        301        5                           اعلام وصول (1) فقره سؤال\n",
      "25        301        6  ناطقان جلسه آقايان: علي‌عسگر ظاهري‌عبده‌وند، ع...\n",
      "26        301        7  تذكرات كتبي نمايندگان مجلس به مسئولان اجرايي كشور\n",
      "27        301        8           تذكرات شفاهي نمايندگان مجلس شوراي اسلامي\n",
      "28        301        9            اعلام ختم جلسه و تاريخ تشكيل جلسه آينده\n",
      "29        302        1                     اعلام رسميت جلسه و قرائت دستور\n",
      "30        302        2                           تلاوت آياتي از قرآن مجيد\n",
      "31        302        3  ادامه رسيدگي به طرح اصلاح موادي از قانون انتخا...\n",
      "32        302        4  تصويب طرح استفساريه جزء (6) بند «ث» ماده (88) ...\n",
      "33        302        5  بررسي لايحه تمديد مدت اجراي آزمايشي قانون ارتق...\n",
      "34        302        6                          اعلام وصول (1) فقره لايحه\n",
      "35        302        7  تصويب اصلاحات كميسيون درخصوص لايحه بودجه سال 1...\n",
      "36        302        8  قرائت بيانيه نمايندگان مجلس شوراي اسلامي درخصو...\n",
      "37        302        9  ناطقان جلسه آقايان: علي گلمرادي، حمدالله كريمي...\n",
      "38        302       10                           اعلام وصول (3) فقره سؤال\n",
      "39        302       11  گراميداشت روز شهدا توسط نايب‌رئيس مجلس شوراي ا...\n"
     ]
    }
   ],
   "source": [
    "import re\n",
    "\n",
    "order_fields = {\n",
    "    \"session_id\": [],\n",
    "    \"order_id\": [],\n",
    "    \"order_title\": []}\n",
    "\n",
    "order_df = pd.DataFrame(data=order_fields)\n",
    "\n",
    "# Pattern to be used for removing the numbering html signs from order titles.\n",
    "pattern = re.compile(\"^[0-9]*\\r\\n\")\n",
    "\n",
    "for json_file in json_files:\n",
    "    # Opening JSON file\n",
    "    json_file = open(path_to_json + json_file,'r') \n",
    "\n",
    "    # returns JSON object as a dictionary \n",
    "    string_data = json.load(json_file) \n",
    "    dict_data = json.loads(string_data)\n",
    "\n",
    "    for order in dict_data[\"mashrooh\"]:\n",
    "        \n",
    "        #Remove the numbering html marks from the order tilte.\n",
    "        order_title = re.sub(pattern, '', dict_data[\"mashrooh\"][order][\"title\"], count=0, flags=0)\n",
    "        \n",
    "        order_df.loc[order_df.shape[0]] = [\n",
    "            dict_data[\"sessionInfo\"][\"session\"],\n",
    "            order[5:],\n",
    "            order_title]\n",
    "\n",
    "print(order_df.head(40))\n",
    "order_df.to_csv(\"export_dataframes/session_orders.csv\")\n"
   ]
  }
 ],
 "metadata": {
  "kernelspec": {
   "display_name": "Python 3",
   "language": "python",
   "name": "python3"
  },
  "language_info": {
   "codemirror_mode": {
    "name": "ipython",
    "version": 3
   },
   "file_extension": ".py",
   "mimetype": "text/x-python",
   "name": "python",
   "nbconvert_exporter": "python",
   "pygments_lexer": "ipython3",
   "version": "3.7.4"
  }
 },
 "nbformat": 4,
 "nbformat_minor": 2
}
