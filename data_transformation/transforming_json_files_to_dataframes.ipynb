{
 "cells": [
  {
   "cell_type": "markdown",
   "metadata": {},
   "source": [
    "Check if there is a consistent structure in the main fields of all json files:"
   ]
  },
  {
   "cell_type": "code",
   "execution_count": 17,
   "metadata": {},
   "outputs": [
    {
     "name": "stdout",
     "output_type": "stream",
     "text": [
      "A session might have up to 18 number of orders.\n"
     ]
    }
   ],
   "source": [
    "import os, json\n",
    "import pandas as pd\n",
    "\n",
    "path_to_json = 'exports/'\n",
    "json_files = [pos_json for pos_json in os.listdir(path_to_json) if pos_json.endswith('.json')]\n",
    "\n",
    "main_fields = [\"sessionInfo\", \"mashrooh\"]\n",
    "sessionInfo_fields = [\n",
    "    \"term\",\n",
    "    \"ejlasie\",\n",
    "    \"preset_mps\",\n",
    "    \"session\",\n",
    "    \"date\"]\n",
    "\n",
    "max_orders = 0\n",
    "\n",
    "\n",
    "print(\"By now, a session might have up to \" + str(max_orders) + \" number of orders.\")"
   ]
  },
  {
   "cell_type": "markdown",
   "metadata": {},
   "source": [
    "Transform session information JSONs to the dataframe session_df:"
   ]
  },
  {
   "cell_type": "code",
   "execution_count": 102,
   "metadata": {},
   "outputs": [
    {
     "name": "stdout",
     "output_type": "stream",
     "text": [
      "   term ejlasie preset_mps session        date date_year date_month date_day\n",
      "0    10       2        194     204  1397-02-19      1397         02       19\n",
      "1    10       3        196     300  1397-12-19      1397         12       19\n",
      "3    10       3        196     302  1397-12-21      1397         12       21\n",
      "4    10       3        194     303  1397-12-26      1397         12       26\n",
      "5    10       3        203     304  1398-01-18      1398         01       18\n",
      "6    10       3        198     305  1398-01-19      1398         01       19\n",
      "7    10       3        208     306  1398-01-20      1398         01       20\n",
      "8    10       3        197     307  1398-01-20      1398         01       20\n",
      "9    10       3        219     308  1398-01-25      1398         01       25\n",
      "10   10       3        195     309  1398-01-26      1398         01       26\n",
      "11   10       3        205     310  1398-01-27      1398         01       27\n",
      "12   10       4        194     311  1398-01-27      1398         01       27\n",
      "13   10       3        225     312  1398-02-02      1398         02       02\n",
      "15   10       3        194     314  1398-02-03      1398         02       03\n",
      "16   10       3        249     316  1398-02-16      1398         02       16\n",
      "17   10       3        231     321  1398-02-24      1398         02       24\n",
      "18   10       3        195     322  1398-02-24      1398         02       24\n",
      "19   10       3        204     323  1398-02-29      1398         02       29\n",
      "20   10       3        202     324  1398-02-30      1398         02       30\n",
      "21   10       3        197     325  1398-02-31      1398         02       31\n",
      "22   10       3        195     326  1398-02-31      1398         02       31\n",
      "23   10       3        195     327  1398-03-04      1398         03       04\n",
      "24   10       3        221     328  1398-03-05      1398         03       05\n",
      "25   10       4        220     329  1398-03-19      1398         03       19\n",
      "26   10       4        200     330  1398-03-20      1398         03       20\n",
      "27   10       4        194     331  1398-03-20      1398         03       20\n",
      "28   10       4        195     332  1398-03-21      1398         03       21\n",
      "29   10       4        229     333  1398-03-26      1398         03       26\n",
      "30   10       4        201     334  1398-03-27      1398         03       27\n",
      "31   10       4        196     335  1398-03-27      1398         03       27\n",
      "32   10       4        194     336  1398-03-28      1398         03       28\n",
      "33   10       4        194     337  1398-04-02      1398         04       02\n",
      "34   10       4        202     338  1398-04-03      1398         04       03\n",
      "35   10       4        194     339  1398-04-03      1398         04       03\n",
      "36   10       4        200     340  1398-04-04      1398         04       04\n",
      "37   10       4        225     341  1398-04-22      1398         04       22\n",
      "38   10       4        201     342  1398-04-24      1398         04       24\n",
      "39   10       4        194     343  1398-04-24      1398         04       24\n",
      "40   10       4        201     344  1398-04-25      1398         04       25\n",
      "41   10       4        205     345  1398-04-30      1398         04       30\n"
     ]
    }
   ],
   "source": [
    "import pandas as pd\n",
    "\n",
    "sessions_fields = {\n",
    "    \"term\" : [],\n",
    "    \"ejlasie\": [],\n",
    "    \"preset_mps\": [],\n",
    "    \"session\": [],\n",
    "    \"date\": []}\n",
    "\n",
    "session_df = pd.DataFrame(data=sessions_fields)\n",
    "\n",
    "for json_file in json_files:\n",
    "    # Opening JSON file\n",
    "    json_file = open(path_to_json + json_file,'r') \n",
    "\n",
    "    # returns JSON object as a dictionary \n",
    "    string_data = json.load(json_file) \n",
    "    dict_data = json.loads(string_data)\n",
    "\n",
    "    session_df.loc[session_df.shape[0]] = dict_data[\"sessionInfo\"]\n",
    "\n",
    "#extract year, month and day from the date string\n",
    "session_df['date_year'] = session_df[\"date\"].str.slice(0, 4)\n",
    "session_df['date_month'] = session_df[\"date\"].str.slice(5, 7)\n",
    "session_df['date_day'] = session_df[\"date\"].str.slice(8, 10)\n",
    "\n",
    "session_df = session_df.sort_values([\"date\", \"session\"]).head(40)\n",
    "print(session_df)"
   ]
  }
 ],
 "metadata": {
  "kernelspec": {
   "display_name": "Python 3",
   "language": "python",
   "name": "python3"
  },
  "language_info": {
   "codemirror_mode": {
    "name": "ipython",
    "version": 3
   },
   "file_extension": ".py",
   "mimetype": "text/x-python",
   "name": "python",
   "nbconvert_exporter": "python",
   "pygments_lexer": "ipython3",
   "version": "3.7.4"
  }
 },
 "nbformat": 4,
 "nbformat_minor": 2
}
