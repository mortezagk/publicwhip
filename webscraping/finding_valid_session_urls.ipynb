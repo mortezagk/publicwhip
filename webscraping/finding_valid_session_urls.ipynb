{
 "cells": [
  {
   "cell_type": "code",
   "execution_count": 1,
   "metadata": {},
   "outputs": [],
   "source": [
    "from bs4 import BeautifulSoup\n",
    "import pandas as pd\n",
    "import requests"
   ]
  },
  {
   "cell_type": "markdown",
   "metadata": {},
   "source": [
    "Function to check URL validity"
   ]
  },
  {
   "cell_type": "code",
   "execution_count": 2,
   "metadata": {},
   "outputs": [],
   "source": [
    "def validate_url(num):\n",
    "    \n",
    "    \"\"\"\n",
    "    This function checks if there is any content available in the URL or not.\n",
    "    It returns the `complete URL` If there is any content available, otherwise it returns `False`.\n",
    "    \"\"\"\n",
    "    \n",
    "    url = f\"http://mashrouh.parliran.ir:81/Main.aspx?sessionId={num}\"\n",
    "    print(f\"Checking {url}\", end='\\r')\n",
    "    \n",
    "    response = requests.get(url)\n",
    "    raw_data = BeautifulSoup(response.content, 'html.parser')\n",
    "    \n",
    "    sessionNo = raw_data.find(\"div\", {\"class\": \"col-sm-3 paddingHL\"}).text.strip().split()[-1]\n",
    "    \n",
    "    if raw_data.find(\"div\", {\"class\": \"col-sm-10\"}):\n",
    "        return [sessionNo, url]\n",
    "    else:\n",
    "        return False"
   ]
  },
  {
   "cell_type": "markdown",
   "metadata": {},
   "source": [
    "Checking url validity for `sessionId = [1300 - 1500]`"
   ]
  },
  {
   "cell_type": "code",
   "execution_count": 3,
   "metadata": {},
   "outputs": [
    {
     "name": "stdout",
     "output_type": "stream",
     "text": [
      "Found 82 valid URLs.\t\t\t\t\t\t\t\tliran.ir:81/Main.aspx?sessionId=1500\n"
     ]
    }
   ],
   "source": [
    "addresses = []\n",
    "\n",
    "for i in range(1300,1501):\n",
    "    result = validate_url(i)\n",
    "    if result == False:\n",
    "        continue\n",
    "    else:\n",
    "        addresses.append(result)\n",
    "        \n",
    "print(f\"Found {len(addresses)} valid URLs.\\t\")"
   ]
  },
  {
   "cell_type": "markdown",
   "metadata": {},
   "source": [
    "Exporting URLs to CSV"
   ]
  },
  {
   "cell_type": "code",
   "execution_count": 4,
   "metadata": {},
   "outputs": [],
   "source": [
    "pd.DataFrame(addresses, columns=[\"sessionNo\", \"url\"]).to_csv(\"CSV_files/valid_session_urls.csv\")"
   ]
  },
  {
   "cell_type": "markdown",
   "metadata": {},
   "source": [
    "**Note:** *There was 84 session links on the website, but no content was provided regarding sessions 315 and 317, so they were not scraped.*"
   ]
  }
 ],
 "metadata": {
  "kernelspec": {
   "display_name": "Python 3",
   "language": "python",
   "name": "python3"
  },
  "language_info": {
   "codemirror_mode": {
    "name": "ipython",
    "version": 3
   },
   "file_extension": ".py",
   "mimetype": "text/x-python",
   "name": "python",
   "nbconvert_exporter": "python",
   "pygments_lexer": "ipython3",
   "version": "3.7.6"
  }
 },
 "nbformat": 4,
 "nbformat_minor": 4
}
