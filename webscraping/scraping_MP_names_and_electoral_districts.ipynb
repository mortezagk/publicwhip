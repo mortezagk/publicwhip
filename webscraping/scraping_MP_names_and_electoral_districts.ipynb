{
 "cells": [
  {
   "cell_type": "code",
   "execution_count": 6,
   "metadata": {},
   "outputs": [],
   "source": [
    "from bs4 import BeautifulSoup\n",
    "import pandas as pd\n",
    "from zipfile import ZipFile\n",
    "\n",
    "pd.set_option('display.max_rows', None)"
   ]
  },
  {
   "cell_type": "markdown",
   "metadata": {},
   "source": [
    "Reading the file and creating the Soup Object"
   ]
  },
  {
   "cell_type": "code",
   "execution_count": 7,
   "metadata": {},
   "outputs": [],
   "source": [
    "PATH = 'raw_MP_names_and_districts.zip'\n",
    "\n",
    "archive = ZipFile(PATH, 'r')\n",
    "page = archive.open('Select_Mp_Search.aspx.html')\n",
    "raw_data = BeautifulSoup(page, 'html.parser')"
   ]
  },
  {
   "cell_type": "markdown",
   "metadata": {},
   "source": [
    "Extracting Names and Districts "
   ]
  },
  {
   "cell_type": "code",
   "execution_count": 8,
   "metadata": {},
   "outputs": [],
   "source": [
    "results = raw_data.findAll('li')\n",
    "extracted_names = []\n",
    "\n",
    "for item in results:\n",
    "    name = item.find(\"span\", {\"class\": \"name ecilipse\"}).text\n",
    "    dist = item.find(\"span\", {\"class\": \"hoze ecilipse\"}).text\n",
    "    extracted_names.append([name, dist])"
   ]
  },
  {
   "cell_type": "markdown",
   "metadata": {},
   "source": [
    "Exporting to CSV"
   ]
  },
  {
   "cell_type": "code",
   "execution_count": 9,
   "metadata": {},
   "outputs": [],
   "source": [
    "mp_names_df = pd.DataFrame(extracted_names, columns=['name', 'district'])\n",
    "mp_names_df.to_csv(\"CSV_files/MP_names_and_electoral_districts_10.csv\")"
   ]
  }
 ],
 "metadata": {
  "kernelspec": {
   "display_name": "Python 3",
   "language": "python",
   "name": "python3"
  },
  "language_info": {
   "codemirror_mode": {
    "name": "ipython",
    "version": 3
   },
   "file_extension": ".py",
   "mimetype": "text/x-python",
   "name": "python",
   "nbconvert_exporter": "python",
   "pygments_lexer": "ipython3",
   "version": "3.7.6"
  }
 },
 "nbformat": 4,
 "nbformat_minor": 4
}
